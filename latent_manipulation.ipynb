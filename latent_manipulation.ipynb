{
 "cells": [
  {
   "cell_type": "code",
   "execution_count": null,
   "metadata": {},
   "outputs": [
    {
     "ename": "",
     "evalue": "",
     "output_type": "error",
     "traceback": [
      "\u001b[1;31mRunning cells with 'Python 3.12.6' requires the ipykernel package.\n",
      "\u001b[1;31mRun the following command to install 'ipykernel' into the Python environment. \n",
      "\u001b[1;31mCommand: '/opt/homebrew/bin/python3 -m pip install ipykernel -U --user --force-reinstall'"
     ]
    }
   ],
   "source": [
    "# # Uncomment in colab - install dependencies\n",
    "# !pip install -r https://raw.githubusercontent.com/ashNotKetchup/Manipulating-Audio-with-Latent-Trajectories/refs/heads/main/requirements.txt\n",
    "# !git clone https://github.com/ashNotKetchup/Manipulating-Audio-with-Latent-Trajectories.git\n",
    "# import os\n",
    "# os.chdir('/content/Manipulating-Audio-with-Latent-Trajectories')\n"
   ]
  },
  {
   "cell_type": "code",
   "execution_count": null,
   "metadata": {},
   "outputs": [],
   "source": [
    "# In[0] # Load Utility Functions:\n",
    "from load_generative_model import latent_model, load_audio\n",
    "from IPython.display import Audio, display\n",
    "from gui import interface\n",
    "import librosa as li\n"
   ]
  },
  {
   "cell_type": "code",
   "execution_count": 2,
   "metadata": {},
   "outputs": [],
   "source": [
    "# Working with trajectories in latent audio models\n",
    "\n",
    "# In[1] # Pick Model:\n",
    "model_name: str = 'percussion' \n",
    "model_location:str = 'generative_models/'+model_name+'.ts'\n",
    "model = latent_model([model_location])\n",
    "sr: int =44100"
   ]
  },
  {
   "cell_type": "code",
   "execution_count": null,
   "metadata": {},
   "outputs": [],
   "source": [
    "# In[2] # Pick Audio Sample:\n",
    "audio_location: str = 'audio/45536__jesuswaffle__hihat3.wav' #HiHat3.wav by jesuswaffle -- https://freesound.org/s/45536/ -- License: Creative Commons 0\n",
    "audio, sr = li.load(audio_location,sr=44100)\n",
    "Audio(audio, rate=sr)"
   ]
  },
  {
   "cell_type": "code",
   "execution_count": null,
   "metadata": {},
   "outputs": [],
   "source": [
    "# In[3] # Mess with Latent Space:\n",
    "user_interface = interface(model,audio)   \n",
    "display(user_interface.app)"
   ]
  },
  {
   "cell_type": "code",
   "execution_count": null,
   "metadata": {},
   "outputs": [],
   "source": []
  },
  {
   "cell_type": "code",
   "execution_count": null,
   "metadata": {},
   "outputs": [],
   "source": []
  }
 ],
 "metadata": {
  "kernelspec": {
   "display_name": "Python 3",
   "language": "python",
   "name": "python3"
  },
  "language_info": {
   "codemirror_mode": {
    "name": "ipython",
    "version": 3
   },
   "file_extension": ".py",
   "mimetype": "text/x-python",
   "name": "python",
   "nbconvert_exporter": "python",
   "pygments_lexer": "ipython3",
   "version": "3.12.6"
  }
 },
 "nbformat": 4,
 "nbformat_minor": 2
}
